{
 "cells": [
  {
   "cell_type": "markdown",
   "id": "b61585c4",
   "metadata": {},
   "source": [
    "# MH6803: Chapter 5"
   ]
  },
  {
   "cell_type": "markdown",
   "id": "c06215e4",
   "metadata": {},
   "source": [
    "### This is my notebook about MH6803 Python Programming Chapter 5."
   ]
  },
  {
   "cell_type": "code",
   "execution_count": null,
   "id": "e3769b54",
   "metadata": {},
   "outputs": [],
   "source": []
  }
 ],
 "metadata": {
  "kernelspec": {
   "display_name": "Python 3 (ipykernel)",
   "language": "python",
   "name": "python3"
  },
  "language_info": {
   "codemirror_mode": {
    "name": "ipython",
    "version": 3
   },
   "file_extension": ".py",
   "mimetype": "text/x-python",
   "name": "python",
   "nbconvert_exporter": "python",
   "pygments_lexer": "ipython3",
   "version": "3.9.18"
  }
 },
 "nbformat": 4,
 "nbformat_minor": 5
}
